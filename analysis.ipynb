{
 "cells": [
  {
   "cell_type": "markdown",
   "metadata": {},
   "source": [
    "## Process all the data using TPP"
   ]
  },
  {
   "cell_type": "code",
   "execution_count": 33,
   "metadata": {},
   "outputs": [],
   "source": [
    "# TODO: Delete this cell before release\n",
    "# #Change the names of all the fastq files to SRA numbers for testing\n",
    "# from shutil import copyfile\n",
    "# import pandas as pd\n",
    "\n",
    "# samp_df = pd.read_csv('input/Sample_Labels.csv')\n",
    "# for uid, sra in zip(samp_df['Run_UID'],samp_df['SRA Accession']):\n",
    "#     f1 = 'input/'+uid + '_1.fastq'\n",
    "#     f1_out = 'input/'+sra + '_1.fastq'\n",
    "#     f2 = 'input/'+uid + '_2.fastq'\n",
    "#     f2_out = 'input/'+sra + '_2.fastq'\n",
    "    \n",
    "#     copyfile(f1, f1_out, follow_symlinks=False)\n",
    "#     copyfile(f2, f2_out, follow_symlinks=False)"
   ]
  },
  {
   "cell_type": "code",
   "execution_count": null,
   "metadata": {},
   "outputs": [],
   "source": [
    "%%bash\n",
    "#SET THESE VARIABLES FOR YOUR LOCAL FILE STRUCTURE:\n",
    "PATH_TO_DATA=input #Note: Any fastq files located here will be processed for alignment with tpp\n",
    "OUT_DIR=output\n",
    "REFS=input/Genome/MAC109.fa\n",
    "GENBANK_FILE=input/Genome/MAC109.gb\n",
    "\n",
    "#Definition of variables for processing\n",
    "PYTHON2=$(which python2)\n",
    "BWA=$(which bwa)\n",
    "BWA_ALG=\"aln\"\n",
    "\n",
    "REPLICON_ID=\"CP029332,CP029333,CP029334\"\n",
    "FASTQ_DIR=$PATH_TO_DATA\n",
    "\n",
    "PREFIXES_OUTFILE=$OUT_DIR/`basename $FASTQ_DIR`_prefixes.txt\n",
    "\n",
    "# These are used for creating a CSV file\n",
    "CSV_OUTFILE=$OUT_DIR/`basename $FASTQ_DIR`.csv\n",
    "UNIQUE_FIELDS=\"locus_tag\"\n",
    "FIELDS=\"product regulatory_class bound_moiety\"\n",
    "\n",
    "#Parameter settings for tpp\n",
    "PRIMER=AACCTGTTA\n",
    "MISMATCHES=2\n",
    "WINDOW_SIZE=6\n",
    "\n",
    "###################################################################\n",
    "\n",
    "#Process raw fastq files using tpp\n",
    "COUNTER=0\n",
    "INITIAL_START_TIME=$SECONDS\n",
    "for FASTQ in $FASTQ_DIR/*_1.fastq; do\n",
    "#for FASTQ in $FASTQ_DIR/*53606_1.fastq; do\n",
    "    echo \"******** Run $COUNTER: $FASTQ ********\"\n",
    "    READS1=$FASTQ\n",
    "    READS2=${FASTQ/_1.fastq/_2.fastq}\n",
    "\n",
    "    OUTNAME=$(basename $FASTQ)\n",
    "    OUTNAME=${OUTNAME/_1.fastq/}\n",
    "    tpp -himar1 -bwa $BWA -bwa-alg $BWA_ALG -ref $REFS -replicon-ids $REPLICON_ID -reads1 $READS1 -reads2 $READS2 -window-size $WINDOW_SIZE -primer $PRIMER -mismatches $MISMATCHES -output $OUT_DIR/$OUTNAME &\n",
    "done\n",
    "wait\n",
    "\n",
    "echo \"Creating prefixes file with all prefixes from all runs...\"\n",
    "basename -a $OUT_DIR/*.wig | cut -c-10 | uniq > $PREFIXES_OUTFILE\n",
    "echo \"Created '$PREFIXES_OUTFILE'.\"\n",
    "echo \"\"\n",
    "echo \"Creating CSV file with all samples processed by TPP...\"\n",
    "$PYTHON2 scripts/wig_gb_to_csv.py -l $PREFIXES_OUTFILE -g $GENBANK_FILE -u $UNIQUE_FIELDS -f $FIELDS -o $CSV_OUTFILE\n",
    "echo \"Created '$CSV_OUTFILE'.\"\n",
    "echo \"\"\n",
    "(( TOTAL_RUN_TIME = SECONDS - INITIAL_START_TIME )) \n",
    "echo \"********** TPP driver script finished in a total of $TOTAL_RUN_TIME seconds **********\""
   ]
  },
  {
   "cell_type": "code",
   "execution_count": null,
   "metadata": {},
   "outputs": [],
   "source": []
  }
 ],
 "metadata": {
  "kernelspec": {
   "display_name": "Python 3",
   "language": "python",
   "name": "python3"
  },
  "language_info": {
   "codemirror_mode": {
    "name": "ipython",
    "version": 3
   },
   "file_extension": ".py",
   "mimetype": "text/x-python",
   "name": "python",
   "nbconvert_exporter": "python",
   "pygments_lexer": "ipython3",
   "version": "3.8.5"
  }
 },
 "nbformat": 4,
 "nbformat_minor": 2
}
