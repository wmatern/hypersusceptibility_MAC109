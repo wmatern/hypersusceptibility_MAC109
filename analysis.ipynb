{
 "cells": [
  {
   "cell_type": "markdown",
   "metadata": {},
   "source": [
    "## Process all the data using TPP"
   ]
  },
  {
   "cell_type": "code",
   "execution_count": 33,
   "metadata": {},
   "outputs": [],
   "source": [
    "# TODO: Delete this cell before release\n",
    "# #Change the names of all the fastq files to SRA numbers for testing\n",
    "# from shutil import copyfile\n",
    "# import pandas as pd\n",
    "\n",
    "# samp_df = pd.read_csv('input/Sample_Labels.csv')\n",
    "# for uid, sra in zip(samp_df['Run_UID'],samp_df['SRA Accession']):\n",
    "#     f1 = 'input/'+uid + '_1.fastq'\n",
    "#     f1_out = 'input/'+sra + '_1.fastq'\n",
    "#     f2 = 'input/'+uid + '_2.fastq'\n",
    "#     f2_out = 'input/'+sra + '_2.fastq'\n",
    "    \n",
    "#     copyfile(f1, f1_out, follow_symlinks=False)\n",
    "#     copyfile(f2, f2_out, follow_symlinks=False)"
   ]
  },
  {
   "cell_type": "code",
   "execution_count": null,
   "metadata": {},
   "outputs": [],
   "source": [
    "%%bash\n",
    "#SET THESE VARIABLES FOR YOUR LOCAL FILE STRUCTURE:\n",
    "PATH_TO_DATA=input #Note: Any fastq files located here will be processed for alignment with tpp\n",
    "OUT_DIR=output\n",
    "REFS=input/Genome/MAC109.fa\n",
    "GENBANK_FILE=input/Genome/MAC109.gb\n",
    "\n",
    "#Definition of variables for processing\n",
    "PYTHON2=$(which python2)\n",
    "BWA=$(which bwa)\n",
    "BWA_ALG=\"aln\"\n",
    "\n",
    "REPLICON_ID=\"CP029332,CP029333,CP029334\"\n",
    "FASTQ_DIR=$PATH_TO_DATA\n",
    "\n",
    "PREFIXES_OUTFILE=$OUT_DIR/`basename $FASTQ_DIR`_prefixes.txt\n",
    "\n",
    "# These are used for creating a CSV file\n",
    "CSV_OUTFILE=$OUT_DIR/`basename $FASTQ_DIR`.csv\n",
    "UNIQUE_FIELDS=\"locus_tag\"\n",
    "FIELDS=\"product regulatory_class bound_moiety\"\n",
    "\n",
    "#Parameter settings for tpp\n",
    "PRIMER=AACCTGTTA\n",
    "MISMATCHES=2\n",
    "WINDOW_SIZE=6\n",
    "\n",
    "###################################################################\n",
    "\n",
    "#Process raw fastq files using tpp\n",
    "COUNTER=0\n",
    "INITIAL_START_TIME=$SECONDS\n",
    "for FASTQ in $FASTQ_DIR/*_1.fastq; do\n",
    "#for FASTQ in $FASTQ_DIR/*53606_1.fastq; do\n",
    "    echo \"******** Run $COUNTER: $FASTQ ********\"\n",
    "    READS1=$FASTQ\n",
    "    READS2=${FASTQ/_1.fastq/_2.fastq}\n",
    "\n",
    "    OUTNAME=$(basename $FASTQ)\n",
    "    OUTNAME=${OUTNAME/_1.fastq/}\n",
    "    tpp -himar1 -bwa $BWA -bwa-alg $BWA_ALG -ref $REFS -replicon-ids $REPLICON_ID -reads1 $READS1 -reads2 $READS2 -window-size $WINDOW_SIZE -primer $PRIMER -mismatches $MISMATCHES -output $OUT_DIR/$OUTNAME &\n",
    "done\n",
    "wait\n",
    "\n",
    "echo \"Creating prefixes file with all prefixes from all runs...\"\n",
    "basename -a $OUT_DIR/*.wig | cut -c-10 | uniq > $PREFIXES_OUTFILE\n",
    "echo \"Created '$PREFIXES_OUTFILE'.\"\n",
    "echo \"\"\n",
    "echo \"Creating CSV file with all samples processed by TPP...\"\n",
    "$PYTHON2 scripts/wig_gb_to_csv.py -l $PREFIXES_OUTFILE -g $GENBANK_FILE -u $UNIQUE_FIELDS -f $FIELDS -o $CSV_OUTFILE\n",
    "echo \"Created '$CSV_OUTFILE'.\"\n",
    "echo \"\"\n",
    "(( TOTAL_RUN_TIME = SECONDS - INITIAL_START_TIME )) \n",
    "echo \"********** TPP driver script finished in a total of $TOTAL_RUN_TIME seconds **********\""
   ]
  },
  {
   "cell_type": "code",
   "execution_count": 15,
   "metadata": {},
   "outputs": [
    {
     "name": "stdout",
     "output_type": "stream",
     "text": [
      "JT test run time: 4.3813087940216064\n",
      "JT test run time: 4.212145805358887\n",
      "JT test run time: 4.130765914916992\n",
      "JT test run time: 4.428714275360107\n",
      "JT test run time: 4.321542978286743\n",
      "JT test run time: 4.41239070892334\n",
      "JT test run time: 4.46047306060791\n",
      "JT test run time: 4.414608716964722\n"
     ]
    }
   ],
   "source": [
    "%%bash\n",
    "#Run analysis script (depends on the file input.csv in order to run)\n",
    "\n",
    "python3 scripts/hypersus_analysis.py "
   ]
  },
  {
   "cell_type": "code",
   "execution_count": 2,
   "metadata": {},
   "outputs": [
    {
     "name": "stderr",
     "output_type": "stream",
     "text": [
      "<ipython-input-2-260c0aad96ce>:44: SettingWithCopyWarning: \n",
      "A value is trying to be set on a copy of a slice from a DataFrame\n",
      "\n",
      "See the caveats in the documentation: https://pandas.pydata.org/pandas-docs/stable/user_guide/indexing.html#returning-a-view-versus-a-copy\n",
      "  merged_df['Prediction'][hypersus_bool]='Hypersusceptible'\n",
      "<ipython-input-2-260c0aad96ce>:45: SettingWithCopyWarning: \n",
      "A value is trying to be set on a copy of a slice from a DataFrame\n",
      "\n",
      "See the caveats in the documentation: https://pandas.pydata.org/pandas-docs/stable/user_guide/indexing.html#returning-a-view-versus-a-copy\n",
      "  merged_df['Prediction'][hypertol_bool]='Hypertolerant'\n"
     ]
    }
   ],
   "source": [
    "#Reorganize data for TableS1\n",
    "infold = 'output/hypersus_analysis/'\n",
    "outfold = 'output/hypersus_analysis/'\n",
    "\n",
    "lfc_thresh = 0.5\n",
    "padj_thresh = 0.05\n",
    "\n",
    "import pandas as pd\n",
    "import numpy as np\n",
    "from math import log10, floor\n",
    "\n",
    "def round_sig(x, sig=2):\n",
    "    #Implement significant figures in python\n",
    "    if np.isnan(x):\n",
    "        return(np.nan)\n",
    "    return round(x, sig-int(floor(log10(abs(x))))-1)\n",
    "\n",
    "def make_tables1(infilename12h, infilename48h, outfilename, treatment, drug_dose_ls):\n",
    "    #Merges tables output from analysis and changes formatting for disribution (TableS1)\n",
    "    \n",
    "    abx12_df = pd.read_csv(infilename12h).drop(['DMSO'],axis=1).rename({'pval-adj (BH)':'padj'},axis='columns')\n",
    "    abx48_df = pd.read_csv(infilename48h).drop(['DMSO'],axis=1).rename({'pval-adj (BH)':'padj'},axis='columns')\n",
    "\n",
    "    abx12_df[treatment+['pval','padj']] = abx12_df[treatment+['pval','padj']].applymap(round_sig)\n",
    "    abx48_df[treatment+['pval','padj']] = abx48_df[treatment+['pval','padj']].applymap(round_sig)\n",
    "\n",
    "    merged_df = abx12_df.merge(abx48_df, how='inner',on=['uid','product'],suffixes=('_12h','_48h'))\n",
    "    merged_df['Prediction'] = 'Not Significant'\n",
    "    hypersus_bool = ((merged_df['padj_12h'] < padj_thresh) & \\\n",
    "                (merged_df[treatment[-1]+'_12h'] < -lfc_thresh)) & \\\n",
    "                ((merged_df['padj_48h'] < padj_thresh) & \\\n",
    "                (merged_df[treatment[-1]+'_48h'] < -lfc_thresh))\n",
    "    hypertol_bool = ((merged_df['padj_12h'] < padj_thresh) & \\\n",
    "                (merged_df[treatment[-1]+'_12h'] > lfc_thresh)) & \\\n",
    "                ((merged_df['padj_48h'] < padj_thresh) & \\\n",
    "                (merged_df[treatment[-1]+'_48h'] > lfc_thresh))\n",
    "\n",
    "    merged_df = merged_df.rename({treatment[0]+'_12h':drug_dose_ls[0]+' - LFC_12h', \\\n",
    "                treatment[1]+'_12h':drug_dose_ls[1]+' - LFC_12h', \\\n",
    "                treatment[0]+'_48h':drug_dose_ls[0]+' - LFC_48h', \\\n",
    "                treatment[1]+'_48h':drug_dose_ls[1]+' - LFC_48h'}, axis=1)\n",
    "    merged_df = merged_df.rename({'uid':'Genomic Feature','product':'Genbank Annotation'}, axis=1)\n",
    "\n",
    "    merged_df['Prediction'][hypersus_bool]='Hypersusceptible'\n",
    "    merged_df['Prediction'][hypertol_bool]='Hypertolerant'\n",
    "\n",
    "    merged_df.to_csv(outfilename,index=False)\n",
    "\n",
    "treatment = ['C++','C+++']\n",
    "drug_dose_ls = ['Clarithromycin (0.54ug/mL)','Clarithromycin (5.4ug/mL)']\n",
    "make_tables1(infold+'summary_12h_CLAR.csv', infold+'summary_48h_CLAR.csv', outfold+'TableS1_CLAR.csv', treatment, drug_dose_ls)\n",
    "    \n",
    "treatment = ['M+','M++']\n",
    "drug_dose_ls = ['Moxifloxacin (0.1ug/mL)','Moxifloxacin (1.0ug/mL)']\n",
    "make_tables1(infold+'summary_12h_MOXI.csv', infold+'summary_48h_MOXI.csv', outfold+'TableS2_MOXI.csv', treatment, drug_dose_ls)\n",
    "    \n",
    "treatment = ['R++','R+++']\n",
    "drug_dose_ls = ['Rifabutin (0.063ug/mL)','Rifabutin (0.63ug/mL)']\n",
    "make_tables1(infold+'summary_12h_RFB.csv', infold+'summary_48h_RFB.csv', outfold+'TableS3_RFB.csv', treatment, drug_dose_ls)\n",
    "    \n",
    "treatment = ['E+','E++']\n",
    "drug_dose_ls = ['Ethambutol (0.21ug/mL)','Ethambutol (2.1ug/mL)']\n",
    "make_tables1(infold+'summary_12h_EMB.csv', infold+'summary_48h_EMB.csv', outfold+'TableS4_EMB.csv', treatment, drug_dose_ls)"
   ]
  },
  {
   "cell_type": "code",
   "execution_count": null,
   "metadata": {},
   "outputs": [],
   "source": []
  }
 ],
 "metadata": {
  "kernelspec": {
   "display_name": "Python 3",
   "language": "python",
   "name": "python3"
  },
  "language_info": {
   "codemirror_mode": {
    "name": "ipython",
    "version": 3
   },
   "file_extension": ".py",
   "mimetype": "text/x-python",
   "name": "python",
   "nbconvert_exporter": "python",
   "pygments_lexer": "ipython3",
   "version": "3.8.5"
  }
 },
 "nbformat": 4,
 "nbformat_minor": 2
}
